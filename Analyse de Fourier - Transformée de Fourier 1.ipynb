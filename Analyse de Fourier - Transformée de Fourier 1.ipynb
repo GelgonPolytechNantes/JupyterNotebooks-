{
 "cells": [
  {
   "cell_type": "code",
   "execution_count": 76,
   "metadata": {
    "collapsed": false
   },
   "outputs": [],
   "source": [
    "import numpy as np\n",
    "from IPython.display import display\n",
    "from sympy import fourier_transform,Piecewise\n",
    "from sympy import *\n",
    "from sympy.plotting import plot\n",
    "from sympy.abc import x,f\n",
    "import sys\n",
    "%matplotlib inline\n"
   ]
  },
  {
   "cell_type": "markdown",
   "metadata": {},
   "source": [
    "Considérons la fonction $g$\n",
    "\n",
    "$$ g(x) = \n",
    "\\begin{cases} \n",
    "      0 & x < -a \\\\\n",
    "      1 & -a\\leq x\\leq a \\\\\n",
    "      0 & x > a\n",
    "\\end{cases}\n",
    "$$\n",
    "\n",
    "Traitons l'exemple $a=0.5$. On garde la notation $f$ pour la fréquence, qui va apparaître en résultat du calcul de la transformée de Fourier."
   ]
  },
  {
   "cell_type": "code",
   "execution_count": 77,
   "metadata": {
    "collapsed": false,
    "scrolled": true
   },
   "outputs": [
    {
     "data": {
      "image/png": "[encoded data removed]",
      "text/plain": [
       "<matplotlib.figure.Figure at 0x10c82c490>"
      ]
     },
     "metadata": {},
     "output_type": "display_data"
    },
    {
     "data": {
      "text/plain": [
       "<sympy.plotting.plot.Plot at 0x10c4c8550>"
      ]
     },
     "execution_count": 77,
     "metadata": {},
     "output_type": "execute_result"
    }
   ],
   "source": [
    "a=0.5\n",
    "g = Piecewise ((0,x<-a),(1,x<a),(0,True)) \n",
    "plot(g,(x,-2,2),adaptive=False, num_of_points=20)"
   ]
  },
  {
   "cell_type": "markdown",
   "metadata": {},
   "source": [
    "On a calculé en TD que la transformée de Fourier de $g$ vaut $G(\\omega) = 2a.sinc(a\\omega)$.\n",
    "\n",
    "Dans notre cas particulier $a=0.5$, $G(w)=sinc(\\frac{\\omega}{2})$. \n",
    "\n",
    "En exprimant ce résultat en fonction de la fréquence $f$ plutôt que la pulsation $\\omega$ (avec $f=2\\pi.\\omega$), on trouve $G(f)=sinc(\\pi.f)=\\frac{sin(\\pi.f)}{\\pi.f}$\n",
    "\n",
    "Montrons que pour se dispenser de calcul d'intégrale à la main, on peut aussi trouver ce résultat en utilisant la librairie de calcul symbolique sympy, et traçons $G(f)$. "
   ]
  },
  {
   "cell_type": "code",
   "execution_count": 75,
   "metadata": {
    "collapsed": false
   },
   "outputs": [
    {
     "data": {
      "text/latex": [
       "$$\\begin{cases} 1.0 & \\text{for}\\: 2 \\pi f = 0 \\\\\\frac{1}{\\pi f} \\sin{\\left (\\pi f \\right )} & \\text{otherwise} \\end{cases}$$"
      ],
      "text/plain": [
       "⎧  1.0     for 2⋅π⋅f = 0\n",
       "⎪                       \n",
       "⎨sin(π⋅f)               \n",
       "⎪────────    otherwise  \n",
       "⎩  π⋅f                  "
      ]
     },
     "metadata": {},
     "output_type": "display_data"
    },
    {
     "data": {
      "image/png": "[encoded data removed]",
      "text/plain": [
       "<matplotlib.figure.Figure at 0x10c4a9cd0>"
      ]
     },
     "metadata": {},
     "output_type": "display_data"
    },
    {
     "data": {
      "text/plain": [
       "<sympy.plotting.plot.Plot at 0x10c40f110>"
      ]
     },
     "execution_count": 75,
     "metadata": {},
     "output_type": "execute_result"
    }
   ],
   "source": [
    "fh=simplify(fourier_transform(g,x,f).rewrite(cos))\n",
    "init_printing(use_latex='mathjax')\n",
    "display(fh)\n",
    "#fig = plt.figure()\n",
    "plot(fh,ylabel='G(f)')"
   ]
  },
  {
   "cell_type": "code",
   "execution_count": null,
   "metadata": {
    "collapsed": false
   },
   "outputs": [],
   "source": []
  },
  {
   "cell_type": "code",
   "execution_count": null,
   "metadata": {
    "collapsed": false
   },
   "outputs": [],
   "source": []
  },
  {
   "cell_type": "code",
   "execution_count": null,
   "metadata": {
    "collapsed": true
   },
   "outputs": [],
   "source": []
  },
  {
   "cell_type": "code",
   "execution_count": null,
   "metadata": {
    "collapsed": true
   },
   "outputs": [],
   "source": []
  },
  {
   "cell_type": "code",
   "execution_count": null,
   "metadata": {
    "collapsed": true
   },
   "outputs": [],
   "source": []
  }
 ],
 "metadata": {
  "kernelspec": {
   "display_name": "Python 2",
   "language": "python",
   "name": "python2"
  },
  "language_info": {
   "codemirror_mode": {
    "name": "ipython",
    "version": 2
   },
   "file_extension": ".py",
   "mimetype": "text/x-python",
   "name": "python",
   "nbconvert_exporter": "python",
   "pygments_lexer": "ipython2",
   "version": "2.7.11"
  }
 },
 "nbformat": 4,
 "nbformat_minor": 0
}
