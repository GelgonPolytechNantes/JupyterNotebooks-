{
 "cells": [
  {
   "cell_type": "markdown",
   "metadata": {},
   "source": [
    "Transformée de Fourier de la fonction porte :\n",
    "========================\n",
    "calcul symbolique d'intégrale en python avec sympy \n",
    "==========================="
   ]
  },
  {
   "cell_type": "code",
   "execution_count": 4,
   "metadata": {
    "collapsed": false
   },
   "outputs": [],
   "source": [
    "from IPython.display import display\n",
    "from sympy import *\n",
    "from sympy import fourier_transform, Piecewise\n",
    "from sympy.plotting import plot\n",
    "from sympy.abc import x,f\n",
    "#import sys\n",
    "%matplotlib inline\n"
   ]
  },
  {
   "cell_type": "markdown",
   "metadata": {},
   "source": [
    "Considérons la fonction $g$\n",
    "\n",
    "$$ g(x) = \n",
    "\\begin{cases} \n",
    "      0 & x < -a \\\\\n",
    "      1 & -a\\leq x\\leq a \\\\\n",
    "      0 & x > a\n",
    "\\end{cases}\n",
    "$$\n",
    "\n",
    "Traitons l'exemple $a=0.5$. On garde la notation $f$ pour la fréquence, qui va apparaître en résultat du calcul de la transformée de Fourier."
   ]
  },
  {
   "cell_type": "code",
   "execution_count": 5,
   "metadata": {
    "collapsed": false,
    "scrolled": true
   },
   "outputs": [
    {
     "name": "stderr",
     "output_type": "stream",
     "text": [
      "/Users/marc2/anaconda/lib/python2.7/site-packages/sympy/plotting/experimental_lambdify.py:165: UserWarning: The evaluation of the expression is problematic. We are trying a failback method that may still work. Please report this as a bug.\n",
      "  warnings.warn('The evaluation of the expression is'\n"
     ]
    },
    {
     "data": {
      "image/png": "[encoded data removed]",
      "text/plain": [
       "<matplotlib.figure.Figure at 0x107420050>"
      ]
     },
     "metadata": {},
     "output_type": "display_data"
    },
    {
     "data": {
      "text/plain": [
       "<sympy.plotting.plot.Plot at 0x10604d350>"
      ]
     },
     "execution_count": 5,
     "metadata": {},
     "output_type": "execute_result"
    }
   ],
   "source": [
    "a=0.5\n",
    "g = Piecewise ((0,x<-a),(1,x<a),(0,True)) \n",
    "plot(g,(x,-2,2),adaptive=False, num_of_points=20)"
   ]
  },
  {
   "cell_type": "markdown",
   "metadata": {},
   "source": [
    "On a calculé en TD que la transformée de Fourier de $g$ vaut $G(\\omega) = 2a.sinc(a\\omega)$.\n",
    "\n",
    "Dans notre cas particulier $a=0.5$, $G(w)=sinc(\\frac{\\omega}{2})$. \n",
    "\n",
    "En exprimant ce résultat en fonction de la fréquence $f$ plutôt que la pulsation $\\omega$ (avec $f=2\\pi.\\omega$), on trouve $G(f)=sinc(\\pi.f)=\\frac{sin(\\pi.f)}{\\pi.f}$\n",
    "\n",
    "Montrons que pour se dispenser de calcul d'intégrale à la main, on peut aussi trouver ce résultat en utilisant la librairie de calcul symbolique sympy, et traçons $G(f)$. "
   ]
  },
  {
   "cell_type": "code",
   "execution_count": 6,
   "metadata": {
    "collapsed": false
   },
   "outputs": [
    {
     "data": {
      "text/latex": [
       "$$\\begin{cases} 1.0 & \\text{for}\\: 2 \\pi f = 0 \\\\\\frac{1}{\\pi f} \\sin{\\left (\\pi f \\right )} & \\text{otherwise} \\end{cases}$$"
      ],
      "text/plain": [
       "⎧  1.0     for 2⋅π⋅f = 0\n",
       "⎪                       \n",
       "⎨sin(π⋅f)               \n",
       "⎪────────    otherwise  \n",
       "⎩  π⋅f                  "
      ]
     },
     "metadata": {},
     "output_type": "display_data"
    },
    {
     "data": {
      "image/png": "[encoded data removed]",
      "text/plain": [
       "<matplotlib.figure.Figure at 0x109741c90>"
      ]
     },
     "metadata": {},
     "output_type": "display_data"
    },
    {
     "data": {
      "text/plain": [
       "<sympy.plotting.plot.Plot at 0x109741f50>"
      ]
     },
     "execution_count": 6,
     "metadata": {},
     "output_type": "execute_result"
    }
   ],
   "source": [
    "fh=simplify(fourier_transform(g,x,f).rewrite(cos))\n",
    "init_printing(use_latex='mathjax')\n",
    "display(fh)\n",
    "plot(fh,ylabel='G(f)')"
   ]
  },
  {
   "cell_type": "markdown",
   "metadata": {
    "collapsed": true
   },
   "source": [
    "Pour les curieux de sympy :"
   ]
  },
  {
   "cell_type": "code",
   "execution_count": 7,
   "metadata": {
    "collapsed": false
   },
   "outputs": [
    {
     "data": {
      "text/latex": [
       "$$\\begin{cases} 1.0 & \\text{for}\\: 2 \\pi f = 0 \\\\\\frac{i e^{- 1.0 i \\pi f}}{2 \\pi f} \\left(- e^{2.0 i \\pi f} + 1\\right) & \\text{otherwise} \\end{cases}$$"
      ],
      "text/plain": [
       "⎧              1.0                 for 2⋅π⋅f = 0\n",
       "⎪                                               \n",
       "⎪  ⎛   2.0⋅ⅈ⋅π⋅f    ⎞  -1.0⋅ⅈ⋅π⋅f               \n",
       "⎨ⅈ⋅⎝- ℯ          + 1⎠⋅ℯ                         \n",
       "⎪────────────────────────────────    otherwise  \n",
       "⎪             2⋅π⋅f                             \n",
       "⎩                                               "
      ]
     },
     "metadata": {},
     "output_type": "display_data"
    },
    {
     "data": {
      "text/latex": [
       "$$\\begin{cases} 1.0 & \\text{for}\\: 2 \\pi f = 0 \\\\\\frac{i}{2 \\pi f} \\left(- i \\sin{\\left (\\pi f \\right )} + \\cos{\\left (\\pi f \\right )}\\right) \\left(- i \\sin{\\left (2.0 \\pi f \\right )} - \\cos{\\left (2.0 \\pi f \\right )} + 1\\right) & \\text{otherwise} \\end{cases}$$"
      ],
      "text/plain": [
       "⎧                              1.0                                for 2⋅π⋅f = \n",
       "⎪                                                                             \n",
       "⎨ⅈ⋅(-ⅈ⋅sin(π⋅f) + cos(π⋅f))⋅(-ⅈ⋅sin(2.0⋅π⋅f) - cos(2.0⋅π⋅f) + 1)              \n",
       "⎪───────────────────────────────────────────────────────────────    otherwise \n",
       "⎩                             2⋅π⋅f                                           \n",
       "\n",
       "0\n",
       " \n",
       " \n",
       " \n",
       " "
      ]
     },
     "metadata": {},
     "output_type": "display_data"
    },
    {
     "data": {
      "text/latex": [
       "$$\\begin{cases} 1.0 & \\text{for}\\: 2 \\pi f = 0 \\\\\\frac{i}{2 \\pi f} \\left(- i \\sin{\\left (\\pi f \\right )} + \\cos{\\left (\\pi f \\right )}\\right) \\left(- i \\sin{\\left (2.0 \\pi f \\right )} - \\cos{\\left (2.0 \\pi f \\right )} + 1\\right) & \\text{otherwise} \\end{cases}$$"
      ],
      "text/plain": [
       "⎧                              1.0                                for 2⋅π⋅f = \n",
       "⎪                                                                             \n",
       "⎨ⅈ⋅(-ⅈ⋅sin(π⋅f) + cos(π⋅f))⋅(-ⅈ⋅sin(2.0⋅π⋅f) - cos(2.0⋅π⋅f) + 1)              \n",
       "⎪───────────────────────────────────────────────────────────────    otherwise \n",
       "⎩                             2⋅π⋅f                                           \n",
       "\n",
       "0\n",
       " \n",
       " \n",
       " \n",
       " "
      ]
     },
     "metadata": {},
     "output_type": "display_data"
    }
   ],
   "source": [
    "init_printing(use_latex='mathjax')\n",
    "etape1 = fourier_transform(g,x,f)\n",
    "display(etape1)\n",
    "etape2 = etape1.rewrite(cos)\n",
    "display(etape2)\n",
    "etape3 = simplify(etape2)\n",
    "display(etape3)"
   ]
  },
  {
   "cell_type": "code",
   "execution_count": null,
   "metadata": {
    "collapsed": true
   },
   "outputs": [],
   "source": []
  }
 ],
 "metadata": {
  "kernelspec": {
   "display_name": "Python 2",
   "language": "python",
   "name": "python2"
  },
  "language_info": {
   "codemirror_mode": {
    "name": "ipython",
    "version": 2
   },
   "file_extension": ".py",
   "mimetype": "text/x-python",
   "name": "python",
   "nbconvert_exporter": "python",
   "pygments_lexer": "ipython2",
   "version": "2.7.11"
  }
 },
 "nbformat": 4,
 "nbformat_minor": 0
}
