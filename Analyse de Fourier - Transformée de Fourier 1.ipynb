{
 "cells": [
  {
   "cell_type": "code",
   "execution_count": 52,
   "metadata": {
    "collapsed": false
   },
   "outputs": [],
   "source": [
    "from IPython.display import display\n",
    "from sympy import fourier_transform,Piecewise\n",
    "from sympy import *\n",
    "from sympy.plotting import plot\n",
    "from sympy.abc import x,f\n",
    "import sys\n",
    "%matplotlib inline\n"
   ]
  },
  {
   "cell_type": "markdown",
   "metadata": {},
   "source": [
    "g(x) = $\n",
    "\\begin{cases} \n",
    "      0 & x < -a \\\\\n",
    "      1 & -a\\leq x\\leq a \\\\\n",
    "      0 & x > a\n",
    "\\end{cases}\n",
    "$\n",
    "$\\[\n",
    "\\left \\{\n",
    "\\begin{array}{c @{=} c}\n",
    "    x & \\sin a \\cos b \\\\\n",
    "    y & \\sin a \\sin b \\\\\n",
    "\\end{array}\n",
    "\\right.\n",
    "\\]$\n",
    "Par exemple, pour a=1/2 :"
   ]
  },
  {
   "cell_type": "code",
   "execution_count": 53,
   "metadata": {
    "collapsed": false,
    "scrolled": true
   },
   "outputs": [
    {
     "data": {
      "image/png": "[encoded data removed]",
      "text/plain": [
       "<matplotlib.figure.Figure at 0x10b1a43d0>"
      ]
     },
     "metadata": {},
     "output_type": "display_data"
    },
    {
     "data": {
      "text/plain": [
       "<sympy.plotting.plot.Plot at 0x10b1a4490>"
      ]
     },
     "execution_count": 53,
     "metadata": {},
     "output_type": "execute_result"
    }
   ],
   "source": [
    "a=0.5\n",
    "\n",
    "g = Piecewise ((0,x<-a),(1,x<a),(0,True)) # g est le nom choisi pour la fonction creneau\n",
    "plot(g,(x,-2,2),adaptive=False, num_of_points=20)"
   ]
  },
  {
   "cell_type": "markdown",
   "metadata": {},
   "source": [
    "Sa transformée de Fourier :\n",
    "\n",
    "$F(w) = 2a.sinc(a\\omega)$ en fonction de la pulsation $\\omega$ c.a.d. $F(f) = 2a.sinc(2\\pi af)$ en fonction de la fréquence $f$.\n",
    "\n",
    "Attention l'axe des abscisses est gradué en frequence (notée f) et non pulsation. La transformée de Fourier vaut donc 0 pour f=1 c.a.d. $\\omega=2\\pi$\n"
   ]
  },
  {
   "cell_type": "code",
   "execution_count": 54,
   "metadata": {
    "collapsed": false
   },
   "outputs": [
    {
     "data": {
      "text/latex": [
       "$$\\begin{cases} 1.0 & \\text{for}\\: 2 \\pi f = 0 \\\\\\frac{1}{\\pi f} \\sin{\\left (\\pi f \\right )} & \\text{otherwise} \\end{cases}$$"
      ],
      "text/plain": [
       "⎧  1.0     for 2⋅π⋅f = 0\n",
       "⎪                       \n",
       "⎨sin(π⋅f)               \n",
       "⎪────────    otherwise  \n",
       "⎩  π⋅f                  "
      ]
     },
     "metadata": {},
     "output_type": "display_data"
    },
    {
     "data": {
      "image/png": "[encoded data removed]",
      "text/plain": [
       "<matplotlib.figure.Figure at 0x10b1f7f90>"
      ]
     },
     "metadata": {},
     "output_type": "display_data"
    },
    {
     "data": {
      "text/plain": [
       "<sympy.plotting.plot.Plot at 0x10b1f75d0>"
      ]
     },
     "execution_count": 54,
     "metadata": {},
     "output_type": "execute_result"
    }
   ],
   "source": [
    "fh=simplify(fourier_transform(g,x,f).rewrite(cos))\n",
    "init_printing(use_latex='mathjax')\n",
    "display(fh)\n",
    "plot(fh)"
   ]
  },
  {
   "cell_type": "code",
   "execution_count": null,
   "metadata": {
    "collapsed": false
   },
   "outputs": [],
   "source": []
  },
  {
   "cell_type": "code",
   "execution_count": null,
   "metadata": {
    "collapsed": false
   },
   "outputs": [],
   "source": []
  },
  {
   "cell_type": "code",
   "execution_count": null,
   "metadata": {
    "collapsed": true
   },
   "outputs": [],
   "source": []
  },
  {
   "cell_type": "code",
   "execution_count": null,
   "metadata": {
    "collapsed": true
   },
   "outputs": [],
   "source": []
  }
 ],
 "metadata": {
  "kernelspec": {
   "display_name": "Python 2",
   "language": "python",
   "name": "python2"
  },
  "language_info": {
   "codemirror_mode": {
    "name": "ipython",
    "version": 2
   },
   "file_extension": ".py",
   "mimetype": "text/x-python",
   "name": "python",
   "nbconvert_exporter": "python",
   "pygments_lexer": "ipython2",
   "version": "2.7.11"
  }
 },
 "nbformat": 4,
 "nbformat_minor": 0
}
