{
 "cells": [
  {
   "cell_type": "code",
   "execution_count": 1,
   "metadata": {
    "collapsed": false
   },
   "outputs": [],
   "source": [
    "from sympy import fourier_transform,Piecewise\n",
    "from sympy import *\n",
    "from sympy.plotting import plot\n",
    "from sympy.abc import x,f\n",
    "import sys\n",
    "%matplotlib inline"
   ]
  },
  {
   "cell_type": "markdown",
   "metadata": {},
   "source": [
    "g(x) = $\n",
    "\\begin{cases} \n",
    "      0 & x < -a \\\\\n",
    "      1 & -a\\leq x\\leq a \\\\\n",
    "      0 & x > a\n",
    "\\end{cases}\n",
    "$\n",
    "\n",
    "Par exemple, pour a=1/2 :"
   ]
  },
  {
   "cell_type": "code",
   "execution_count": 5,
   "metadata": {
    "collapsed": false,
    "scrolled": true
   },
   "outputs": [
    {
     "data": {
      "image/png": "[encoded data removed]",
      "text/plain": [
       "<matplotlib.figure.Figure at 0x109a47890>"
      ]
     },
     "metadata": {},
     "output_type": "display_data"
    }
   ],
   "source": [
    "a=0.5\n",
    "\n",
    "g = Piecewise ((0,x<-a),(1,x<a),(0,True)) # g est le nom choisi pour la fonction creneau\n",
    "plot(g,(x,-2,2),adaptive=False, num_of_points=20)"
   ]
  },
  {
   "cell_type": "markdown",
   "metadata": {},
   "source": [
    "Sa transformée de Fourier :\n",
    "\n",
    "$F(w) = 2a.sinc(a\\omega)$ en fonction de la pulsation $\\omega$ c.a.d. $F(f) = 2a.sinc(2\\pi af)$ en fonction de la fréquence $f$.\n",
    "\n",
    "Attention l'axe des abscisses est gradué en frequence (notée f) et non pulsation. La transformée de Fourier vaut donc 0 pour f=1 c.a.d. $\\omega=2\\pi$\n"
   ]
  },
  {
   "cell_type": "code",
   "execution_count": 9,
   "metadata": {
    "collapsed": false
   },
   "outputs": [],
   "source": [
    "foug=fourier_transform(g,x,f)"
   ]
  },
  {
   "cell_type": "code",
   "execution_count": 7,
   "metadata": {
    "collapsed": false
   },
   "outputs": [
    {
     "name": "stdout",
     "output_type": "stream",
     "text": [
      "Piecewise((1.00000000000000, 2*pi*f == 0), (I*(-exp(2.0*I*pi*f) + 1)*exp(-1.0*I*pi*f)/(2*pi*f), True))\n"
     ]
    }
   ],
   "source": []
  },
  {
   "cell_type": "code",
   "execution_count": null,
   "metadata": {
    "collapsed": false
   },
   "outputs": [],
   "source": []
  },
  {
   "cell_type": "code",
   "execution_count": null,
   "metadata": {
    "collapsed": true
   },
   "outputs": [],
   "source": []
  },
  {
   "cell_type": "code",
   "execution_count": null,
   "metadata": {
    "collapsed": true
   },
   "outputs": [],
   "source": []
  }
 ],
 "metadata": {
  "kernelspec": {
   "display_name": "Python 2",
   "language": "python",
   "name": "python2"
  },
  "language_info": {
   "codemirror_mode": {
    "name": "ipython",
    "version": 2
   },
   "file_extension": ".py",
   "mimetype": "text/x-python",
   "name": "python",
   "nbconvert_exporter": "python",
   "pygments_lexer": "ipython2",
   "version": "2.7.11"
  }
 },
 "nbformat": 4,
 "nbformat_minor": 0
}
