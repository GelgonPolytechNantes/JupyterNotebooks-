{
 "cells": [
  {
   "cell_type": "code",
   "execution_count": null,
   "metadata": {
    "collapsed": true
   },
   "outputs": [],
   "source": [
    "%matplotlib notebook\n",
    "# makes nicer graphics (maybe) if want to export notebook to pdf\n",
    "%config InlineBackend.figure_formats = {'png', 'retina'} \n",
    "from skimage import data, filters, io\n",
    "import matplotlib.pyplot as plt\n",
    "import matplotlib.cm as cm\n",
    "import numpy as np\n",
    "import scipy.stats as stats\n",
    "import math\n"
   ]
  },
  {
   "cell_type": "markdown",
   "metadata": {},
   "source": [
    "## Preliminaire : le code vectorisé  "
   ]
  },
  {
   "cell_type": "markdown",
   "metadata": {},
   "source": [
    "Dans cette petite manipulation préliminaire python, on examine deux façons d'écrire un algorithme de seuillage d'image. L'opération sur l'image considérée ici est un exemple simple quelconque, le sujet est la ** vectorisation de code **."
   ]
  },
  {
   "cell_type": "markdown",
   "metadata": {},
   "source": [
    "* Que fait le code ci-dessous ?\n",
    "* Quelle fonction de seuillage est plus facile à lire ?\n",
    "* Laquelle est plus facile à maintenir ?\n",
    "* Quel est le rapport (ratio) des temps d'execution entre les deux procédés ? (expliquer les raisons techniques)\n",
    "\n",
    "Le même principe s'applique pour des programmes en R, en Matlab, en Julia (un langage/environnement qui ressemble à python mais se donne pour objectif d'être rapide à l'execution comme du C http://julialang.org), même si ce dernier se donne pour objectif d'être aussi rapide pour l'écriture \"déroulée\" du code - car tous les algorithmes ne peuvent pas se vectoriser."
   ]
  },
  {
   "cell_type": "code",
   "execution_count": null,
   "metadata": {
    "collapsed": false
   },
   "outputs": [],
   "source": [
    "\n",
    "image = data.coins() # Une image avec des pieces de monnaie, fournie dans la librairie python\n",
    "image_seuillee = np.copy(image)\n",
    "\n",
    "nb_lignes, nb_colonnes = image.shape\n",
    "\n",
    "seuil=145\n",
    "\n",
    "def seuillage_lent(image): # La fonction naïve \n",
    "    for i in range(nb_lignes):\n",
    "        for j in range(nb_colonnes):\n",
    "            if image[i,j]>seuil:\n",
    "                image_seuillee[i,j]=255\n",
    "            else:\n",
    "                image_seuillee[i,j]=0\n",
    "    return(image_seuillee)\n",
    "\n",
    "def seuillage_rapide(image): # La fonction moins naïve\n",
    "    image_seuillee = image>seuil\n",
    "    return(image_seuillee)\n",
    "\n",
    "%timeit image_seuillee = seuillage_lent(image)\n",
    "%timeit image_seuillee = seuillage_rapide(image)\n",
    "\n",
    "plt.figure(figsize=(11,5))\n",
    "plt.subplot(1,2,1)\n",
    "plt.imshow(image, cmap = cm.Greys_r)\n",
    "plt.subplot(1,2,2)\n",
    "plt.imshow(image_seuillee, cmap = cm.Greys_r)"
   ]
  },
  {
   "cell_type": "markdown",
   "metadata": {},
   "source": [
    "## Détection de contours"
   ]
  },
  {
   "cell_type": "markdown",
   "metadata": {},
   "source": [
    "Cette section examine une manière simple de détecter des contours dans des images. Les contours peuvent ensuite servir à reconnaître l'objet selon sa forme, ou de point de vue 3D de la caméra sur cet objet, ou encore à faire un suivi de cet objet dans une séquence d'images.\n",
    "\n",
    "On va utiliser la convolution de l'image avec des filtres de Sobel (deux filtres : un horizontal et un vertical) pour détecter la présence de contours. \n",
    "* Trouver sur internet les valeurs de ces filtres de Sobel : expliquer les signes de valeurs numériques, les directionalités de ces filtres\n",
    "* La convolution de l'image avec ces filtres aboutit-elle directement à une décision (binaire) par pixel ?\n",
    "* Vérifier sur l'experience ci-dessous que les contours horizontaux et verticaux sont bien détectés selon le filtre employé.\n",
    "* Comment combine t-on dans le code les résultats des détections horizontale et verticale ? (on pourrait procéder différemment)\n",
    "* La détection d'un contour en un pixel dépend t-elle de ce qui est décidé aux pixels voisins ? Est-ce le procédé qui semble le plus intéressant pour obtenir des détections de contours fiables ? Le résultat de la détection de contour par la méthode de Canny est fourni en bas à droite."
   ]
  },
  {
   "cell_type": "code",
   "execution_count": null,
   "metadata": {
    "collapsed": false
   },
   "outputs": [],
   "source": [
    "\n",
    "from skimage import filters,feature\n",
    "from skimage.color import rgb2gray\n",
    "\n",
    "#im = data.coins() #enlever le commentaire pour utiliser cette image\n",
    "im = rgb2gray(io.imread(\"polytech.jpg\"))\n",
    "#im = data.camera() \n",
    "\n",
    "fig=plt.figure(figsize=(12,8))\n",
    "plt.imshow(im, cmap = cm.Greys_r)\n",
    "\n",
    "# Regarder si un filtrage passe-bas préalable améliore le résultat \n",
    "# im=filters.gaussian(im, sigma=2)\n",
    "\n",
    "seuil = 0.1\n",
    "\n",
    "sx = filters.sobel_h(im)\n",
    "ssx = abs(sx)>seuil\n",
    "sy = filters.sobel_v(im)\n",
    "ssy = abs(sy)>seuil\n",
    "\n",
    "plt.figure(figsize=(8,8))\n",
    "plt.subplot(2,2,1)\n",
    "plt.imshow(sx, cmap = cm.Greys_r)\n",
    "plt.subplot(2,2,2)\n",
    "plt.imshow(ssx, cmap = cm.Greys_r)\n",
    "plt.subplot(2,2,3)\n",
    "plt.imshow(sx, cmap = cm.Greys_r)\n",
    "plt.subplot(2,2,4)\n",
    "plt.imshow(ssy, cmap = cm.Greys_r)\n",
    "fig.tight_layout()\n",
    "\n",
    "plt.figure(figsize=(8,8))\n",
    "ss = np.maximum(ssx,ssy)\n",
    "plt.imshow(ss, cmap = cm.Greys_r)\n",
    "\n",
    "#from skimage.morphology import erosion, dilation, opening, closing\n",
    "#from skimage.morphology import disk\n",
    "\n",
    "#struct_elem = disk(4)\n",
    "\n",
    "#dilated = dilation(ss, struct_elem)\n",
    "#eroded = erosion(dilated, struct_elem)\n",
    "\n",
    "#plt.subplot(3,2,6)\n",
    "#plt.imshow(eroded, cmap = cm.Greys_r)\n",
    "#plt.imshow(feature.canny(im), cmap = cm.Greys_r)\n",
    "\n"
   ]
  },
  {
   "cell_type": "markdown",
   "metadata": {},
   "source": [
    "# Détection des pièces"
   ]
  },
  {
   "cell_type": "markdown",
   "metadata": {},
   "source": [
    "Pour l'image de pièces ci-dessous, le but est de décider correctement pour chaque pixel s'il appartient à une pièce (foreground) ou au fond (background)."
   ]
  },
  {
   "cell_type": "markdown",
   "metadata": {},
   "source": [
    "Chargeons une image (fournie dans le système de librairies python), affichons l'image et son histogramme\n",
    "* Y a t-il, à observer l'histogramme, un seuil séparant nettement les pièces du fond ?"
   ]
  },
  {
   "cell_type": "code",
   "execution_count": null,
   "metadata": {
    "collapsed": false
   },
   "outputs": [],
   "source": [
    "image = data.coins()\n",
    "plt.figure(figsize=(11,5))\n",
    "plt.subplot(1,2,1)\n",
    "plt.imshow(image, cmap = cm.Greys_r)\n",
    "plt.subplot(1,2,2)\n",
    "plt.hist(image.flatten(),256,fc='k')\n",
    "plt.xlabel('niveau de gris')\n",
    "plt.ylabel('nombre de pixels')\n",
    "plt.show()"
   ]
  },
  {
   "cell_type": "markdown",
   "metadata": {},
   "source": [
    "## Détections manquées, fausses alarmes"
   ]
  },
  {
   "cell_type": "markdown",
   "metadata": {
    "collapsed": false
   },
   "source": [
    "Le code ci-dessous réalise un simple seuillage (variable `seuil` dans le code) sur le niveau de gris de chaque pixel, pour décider si ce pixel appartient à la classe 'pièces' ou non. L'image de détection est indiquée ci-dessous\n",
    "* De façon générale, quels sont les deux types d'erreurs possibles dans un problème de détection ?\n",
    "* Une courbe dite \"ROC\" est indiquée en bas à droite avec une croix sur la position correspondant au seuil réglé.\n",
    "    * Pour calculer cette courbe comme fait ici, a t-on besoin de disposer de la \"vraie image de détection\" ? \n",
    "    * A quelles situations correspondent les 4 coins du graphique ? \n",
    "    * Trouver différents réglages du seuil permettant de balayer la courbe.\n",
    "    * Quelle est la situation optimale ?"
   ]
  },
  {
   "cell_type": "code",
   "execution_count": null,
   "metadata": {
    "collapsed": false
   },
   "outputs": [],
   "source": [
    "coins_truth=io.imread('coins_ground_truth.png')\n",
    "nb_el = nb_lignes * nb_colonnes\n",
    "#plt.figure(figsize=(10,5))\n",
    "#plt.imshow(coins_truth, cmap = cm.Greys_r)\n",
    "\n",
    "fig=plt.figure(figsize=(8,8))\n",
    "\n",
    "seuil = 110\n",
    "\n",
    "decision = (data.coins()>seuil).astype(int)*255\n",
    "false_alarm  = np.greater(decision,coins_truth)\n",
    "misdetection = np.less(decision,coins_truth) \n",
    "\n",
    "plt.subplot(2,2,1)\n",
    "plt.imshow(decision, cmap = cm.Greys_r)\n",
    "plt.xlabel('blanc = decision favorable à la classe \"pièce\" ')\n",
    "plt.subplot(2,2,2)\n",
    "plt.imshow(misdetection, cmap = cm.Greys_r)\n",
    "plt.xlabel('blanc = détections manquées')\n",
    "plt.subplot(2,2,3)\n",
    "plt.imshow(false_alarm, cmap = cm.Greys_r)\n",
    "plt.xlabel('blanc = fausses alarmes')\n",
    "\n",
    "misd=[]\n",
    "fal=[]\n",
    "\n",
    "for i in range(0,255):\n",
    "    decision = (data.coins()>i).astype(int)*255\n",
    "    false_alarm  = np.greater(decision,coins_truth)\n",
    "    misdetection = np.less(decision,coins_truth) \n",
    "    misd.append(1-np.count_nonzero(misdetection)/nb_el)\n",
    "    fal.append(np.count_nonzero(false_alarm)/nb_el)\n",
    "    if i==seuil:\n",
    "        misdx=1-np.count_nonzero(misdetection)/nb_el\n",
    "        faly=np.count_nonzero(false_alarm)/nb_el\n",
    "plt.subplot(2,2,4)\n",
    "plt.plot(fal,misd)\n",
    "plt.plot(faly,misdx,'*')\n",
    "plt.xlabel('taux de fausses alarmes')\n",
    "plt.ylabel('taux de bonnes détection')\n",
    "fig.tight_layout()"
   ]
  },
  {
   "cell_type": "markdown",
   "metadata": {},
   "source": [
    "# Classification statistique supervisée"
   ]
  },
  {
   "cell_type": "markdown",
   "metadata": {
    "collapsed": false
   },
   "source": [
    "On va maintenant automatiser le réglage du seuil de décision, grâce à un apprentissage préalable de la distribution des niveaux de gris de chacune des deux classes.\n",
    "\n",
    "On a découpé, à la main, deux petites images, l'une extraite du fond et l'autre extraite d'une pièce, pour constituer des données d'apprentissage.\n",
    "    "
   ]
  },
  {
   "cell_type": "markdown",
   "metadata": {},
   "source": [
    "## Partie apprentissage  : modélisation de la distribution de probabilité des niveaux de gris pour chacune de ces deux classes."
   ]
  },
  {
   "cell_type": "markdown",
   "metadata": {},
   "source": [
    "On calcule la moyenne et la variance de chacun des deux échantillons et on utilise ces moyennes et variances comme paramètres de deux lois normales modélisant la distribution de probabilité des niveaux de gris pour chaque classe.\n",
    "Au vu des graphiques ci-dessous :\n",
    "* dans quelle mesure l'hypothèse \"loi gaussienne\" est-elle valable ?\n",
    "* quel est le seuil de décision implicitement construit ?\n",
    "\n",
    "Pour étudier la dépendence de la technique au choix du jeu d'apprentissage extrait à la main, on a extrait à la main d'autres zones du fond (`coins_background2.jpg,coins_background3.jpg,coins_background4.jpg`), pour voir si cela affecte les résultats. \n",
    "* Revoir les réponses ci-dessous pour chacun des cas. \n",
    "* Les résultats (c.a.d. la qualité) de la classification varient-ils fortement selon les cas ? Est-ce un problème ? "
   ]
  },
  {
   "cell_type": "code",
   "execution_count": null,
   "metadata": {
    "collapsed": false
   },
   "outputs": [],
   "source": [
    "\n",
    "coins_background = io.imread(\"coins_background.jpg\")\n",
    "coins_foreground = io.imread(\"coins_foreground.jpg\")\n",
    "\n",
    "mean_background = coins_background.flatten().mean()\n",
    "mean_foreground = coins_foreground.flatten().mean()\n",
    "variance_background = coins_background.flatten().var()\n",
    "variance_foreground = coins_foreground.flatten().var()\n",
    "fig=plt.figure(figsize=(10,5))\n",
    "ax=fig.add_subplot(111)\n",
    "\n",
    "ax.hist(coins_foreground.flatten(),bins=256,range=(0,255),alpha=0.3,normed=True)\n",
    "ax.hist(coins_background.flatten(),bins=256,range=(0,255),alpha=0.3,normed=True)\n",
    "\n",
    "x = np.linspace(0,255,255)\n",
    "ax.plot(x,stats.norm.pdf(x,mean_background,math.sqrt(variance_background)),label='background')\n",
    "ax.plot(x,stats.norm.pdf(x,mean_foreground,math.sqrt(variance_foreground)),label='foreground')\n",
    "\n",
    "plt.xlabel('niveau de gris')\n",
    "plt.ylabel('nombre de pixels')\n",
    "plt.legend()\n",
    "plt.show()\n",
    "\n"
   ]
  },
  {
   "cell_type": "markdown",
   "metadata": {},
   "source": [
    "## Classifions chacun des pixels de l'image selon le critère du maximum de vraimsemblance"
   ]
  },
  {
   "cell_type": "markdown",
   "metadata": {},
   "source": [
    "on peut utiliser les modèles probabilistes construits ci-dessus pour maintenant classer chaque pixel de l'image selon le critère du maximum de vraisemblance. \n"
   ]
  },
  {
   "cell_type": "code",
   "execution_count": null,
   "metadata": {
    "collapsed": false
   },
   "outputs": [],
   "source": [
    "image_classification = image.copy()\n",
    "\n",
    "# calcul de fonction gaussienne vectorisé sur une image\n",
    "image_likelihood_foreground = stats.norm.pdf(image,mean_foreground,math.sqrt(variance_foreground))\n",
    "image_likelihood_background = stats.norm.pdf(image,mean_background,math.sqrt(variance_background))\n",
    "\n",
    "# opérateur de comparaison vectorisé sur une image\n",
    "image_classification= image_likelihood_foreground>image_likelihood_background\n",
    "    \n",
    "plt.figure(figsize=(10,5))\n",
    "im=plt.imshow(image_classification, cmap = cm.Greys_r)\n",
    "\n",
    "plt.show()"
   ]
  },
  {
   "cell_type": "markdown",
   "metadata": {},
   "source": [
    "## Post-traitement du résultat de classification par morphologie mathématique"
   ]
  },
  {
   "cell_type": "markdown",
   "metadata": {},
   "source": [
    "De la section précédente, retenir le cas correspondant à la meilleure image de détection (même si elle est loin d'être parfaite). On va maintenant tenter de l'améliorer avec des opérations de morphologie mathématique.\n",
    "* quelle opération de morphologie mathématique permet de boucher les petits trous noirs dans le résultat précédent ?\n",
    "* quel est l'inconvénient de cette opération pour la précision des contours des pièces ?\n",
    "* comment rétablir à peu près la bonne localisation des contours des pièces ?\n",
    "* expérimenter l'inversion de l'ordre dilatation/erosion ci-dessous et des éléments structurants plus grands (changer la taille du disque). Quel réglage semble optimal ?"
   ]
  },
  {
   "cell_type": "code",
   "execution_count": null,
   "metadata": {
    "collapsed": false
   },
   "outputs": [],
   "source": [
    "from skimage.morphology import erosion, dilation, opening, closing\n",
    "from skimage.morphology import disk\n",
    "\n",
    "struct_elem = disk(2)\n",
    "\n",
    "dilated = dilation(image_classification, struct_elem)\n",
    "eroded = erosion(dilated, struct_elem)\n",
    "\n",
    "plt.figure(figsize=(10,5))\n",
    "im=plt.imshow(eroded, cmap = cm.Greys_r)\n",
    "\n",
    "plt.show()\n"
   ]
  },
  {
   "cell_type": "markdown",
   "metadata": {},
   "source": [
    "## Classification non supervisée d'image"
   ]
  },
  {
   "cell_type": "markdown",
   "metadata": {},
   "source": [
    "Dans cette section, on examine la possibilité de trouver automatiquement les régions, homogènes au sens de la couleur, composant une image. Pour cela, l'algorithme k-means est utilisé\n",
    "\n",
    "* Essayer l'opération sur des images diverses\n",
    "* Essayer avec divers nombres de régions\n",
    "* Pour un nombre restreint de couleur : se représenter l'espace de couleur, les centres des groupes. Y a t-il besoin de calculer des distances entre couleurs ?\n",
    "* Les régions trouvées sont-elles spatialement connexes ? Pouvez-vous trouver des avantages et inconvénients à cela ?\n",
    "* Comment cette technique pourrait-elle servir à faire de la compression d'image ?"
   ]
  },
  {
   "cell_type": "code",
   "execution_count": null,
   "metadata": {
    "collapsed": false
   },
   "outputs": [],
   "source": [
    "# Adapté de :\n",
    "# \n",
    "# Authors: Robert Layton <robertlayton@gmail.com>\n",
    "#          Olivier Grisel <olivier.grisel@ensta.org>\n",
    "#          Mathieu Blondel <mathieu@mblondel.org>\n",
    "#\n",
    "# License: BSD 3 clause\n",
    "\n",
    "print(__doc__)\n",
    "import numpy as np\n",
    "import matplotlib.pyplot as plt\n",
    "from sklearn.cluster import KMeans\n",
    "from sklearn.metrics import pairwise_distances_argmin\n",
    "from sklearn.datasets import load_sample_image\n",
    "from sklearn.utils import shuffle\n",
    "from time import time\n",
    "\n",
    "n_colors = 3\n",
    "\n",
    "image = io.imread(\"polytech.jpg\")\n",
    "\n",
    "# Convert to floats instead of the default 8 bits integer coding. Dividing by\n",
    "# 255 is important so that plt.imshow behaves works well on float data (need to\n",
    "# be in the range [0-1])\n",
    "\n",
    "image = np.array(image, dtype=np.float64) / 255\n",
    "\n",
    "# Load Image and transform to a 2D numpy array.\n",
    "w, h, d = original_shape = tuple(image.shape)\n",
    "assert d == 3\n",
    "image_array = np.reshape(image, (w * h, d))\n",
    "\n",
    "# Fitting model on a small sub-sample of the data\n",
    "image_array_sample = shuffle(image_array, random_state=0)[:1000]\n",
    "kmeans = KMeans(n_clusters=n_colors, random_state=0).fit(image_array_sample)\n",
    "\n",
    "labels = kmeans.predict(image_array)\n",
    "codebook_random = shuffle(image_array, random_state=0)[:n_colors + 1]\n",
    "labels_random = pairwise_distances_argmin(codebook_random,\n",
    "                                          image_array,\n",
    "                                          axis=0)\n",
    "def recreate_image(codebook, labels, w, h):\n",
    "    \"\"\"Recreate the (compressed) image from the code book & labels\"\"\"\n",
    "    d = codebook.shape[1]\n",
    "    image = np.zeros((w, h, d))\n",
    "    label_idx = 0\n",
    "    for i in range(w):\n",
    "        for j in range(h):\n",
    "            image[i][j] = codebook[labels[label_idx]]\n",
    "            label_idx += 1\n",
    "    return image\n",
    "\n",
    "fig=plt.figure(figsize=(12,6))\n",
    "plt.subplot(1,2,1)\n",
    "plt.imshow(image)\n",
    "plt.title('Image originale')\n",
    "plt.subplot(1,2,2)\n",
    "image_regions = recreate_image(codebook_random, labels_random, w, h)\n",
    "plt.imshow(image_regions)\n",
    "plt.title('Régions ')\n",
    "fig.tight_layout()"
   ]
  },
  {
   "cell_type": "code",
   "execution_count": null,
   "metadata": {
    "collapsed": true
   },
   "outputs": [],
   "source": []
  }
 ],
 "metadata": {
  "anaconda-cloud": {},
  "kernelspec": {
   "display_name": "Python [conda env:py3]",
   "language": "python",
   "name": "conda-env-py3-py"
  },
  "language_info": {
   "codemirror_mode": {
    "name": "ipython",
    "version": 3
   },
   "file_extension": ".py",
   "mimetype": "text/x-python",
   "name": "python",
   "nbconvert_exporter": "python",
   "pygments_lexer": "ipython3",
   "version": "3.5.2"
  }
 },
 "nbformat": 4,
 "nbformat_minor": 0
}
