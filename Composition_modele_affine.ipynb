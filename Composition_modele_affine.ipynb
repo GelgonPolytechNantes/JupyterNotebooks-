{
 "cells": [
  {
   "cell_type": "markdown",
   "metadata": {},
   "source": [
    "# Composition de deux modèles de mouvement affines"
   ]
  },
  {
   "cell_type": "markdown",
   "metadata": {},
   "source": [
    "L'objectif de cet exercice est de montrer que la composition de deux modèles de mouvement affine est un mouvement affine.\n",
    "Un mouvement affine est une version simplifiée du modèle quadratique.\n",
    "\n",
    "Soit un champ de mouvement suivant un modèle affine, paramétré par les coefficients $a_1 a_2 a_3 a_4 a_5 a_6$, qui à tout point $(x,y)$ associe un vecteur $(u(x,y),v(x,y))$\n",
    "\n",
    "$$ u(x,y) = a_{1}+a_{2}x+a_{3}y$$\n",
    "$$ v(x,y) = a_{4}+a_{5}x+a_{6}y$$\n",
    "\n",
    "qui peut s'écrire aussi $$ [u v ]^T = M . A $$\n",
    "où $$ A= [a_1 a_2 a_3 a_4 a_5 a_6]$$\n",
    "\n",
    "On en profite pour montrer quelques exemples d'utilisation de la librarie de calcul symbolique python Sympy"
   ]
  },
  {
   "cell_type": "code",
   "execution_count": 1,
   "metadata": {
    "collapsed": false
   },
   "outputs": [],
   "source": [
    "from sympy import *\n",
    "a1,a2,a3,a4,a5,a6 = symbols('a1,a2,a3,a4,a5,a6')\n",
    "b1,b2,b3,b4,b5,b6 = symbols('b1,b2,b3,b4,b5,b6')\n",
    "x,y,u,v,z = symbols('x,y,u,v,z')\n",
    "xp,yp,xpp,ypp,up,vp = symbols('xp,yp,xpp,ypp,up,vp')\n",
    "\n",
    "# pour avoir des jolies sorties à l'écran\n",
    "init_printing(use_latex='mathjax')\n",
    "\n",
    "# premier modele de mouvement de (x,y)->(xp,yp)\n",
    "\n",
    "u=a1+a2*x+a3*y\n",
    "v=a4+a5*x+a6*y\n",
    "xp=x+u\n",
    "yp=y+v\n",
    "\n",
    "# second modele de mouvement de (xp,yp)->(xpp,ypp)\n",
    "# \n",
    "\n",
    "up=b1+b2*xp+b3*yp\n",
    "vp=b4+b5*xp+b6*yp\n",
    "xpp=xp+up\n",
    "ypp=yp+vp\n"
   ]
  },
  {
   "cell_type": "code",
   "execution_count": 2,
   "metadata": {
    "collapsed": false
   },
   "outputs": [
    {
     "data": {
      "text/latex": [
       "$$a_{1} + a_{2} x + a_{3} y + b_{1} + b_{2} \\left(a_{1} + a_{2} x + a_{3} y + x\\right) + b_{3} \\left(a_{4} + a_{5} x + a_{6} y + y\\right) + x$$"
      ],
      "text/plain": [
       "a₁ + a₂⋅x + a₃⋅y + b₁ + b₂⋅(a₁ + a₂⋅x + a₃⋅y + x) + b₃⋅(a₄ + a₅⋅x + a₆⋅y + y) \n",
       "+ x"
      ]
     },
     "execution_count": 2,
     "metadata": {},
     "output_type": "execute_result"
    }
   ],
   "source": [
    "xpp"
   ]
  },
  {
   "cell_type": "code",
   "execution_count": 3,
   "metadata": {
    "collapsed": false
   },
   "outputs": [
    {
     "data": {
      "text/latex": [
       "$$a_{4} + a_{5} x + a_{6} y + b_{4} + b_{5} \\left(a_{1} + a_{2} x + a_{3} y + x\\right) + b_{6} \\left(a_{4} + a_{5} x + a_{6} y + y\\right) + y$$"
      ],
      "text/plain": [
       "a₄ + a₅⋅x + a₆⋅y + b₄ + b₅⋅(a₁ + a₂⋅x + a₃⋅y + x) + b₆⋅(a₄ + a₅⋅x + a₆⋅y + y) \n",
       "+ y"
      ]
     },
     "execution_count": 3,
     "metadata": {},
     "output_type": "execute_result"
    }
   ],
   "source": [
    "ypp"
   ]
  },
  {
   "cell_type": "code",
   "execution_count": 4,
   "metadata": {
    "collapsed": false
   },
   "outputs": [],
   "source": [
    "# les ecritures ci-dessous ne font pas bien apparaitre qu'il s'agit d'un modele affine\n",
    "# donc on va developper par rapport aux b_i puis factoriser par rapport a x et y \n",
    "# pour faire plus clairement apparaitre les modeles affine\n",
    "\n",
    "xpp_expand = xpp.expand(basic=True)\n",
    "ypp_expand = ypp.expand(basic=True)\n",
    "xpp_factorized = collect(xpp_expand,x) # factorisation par rapport a x\n",
    "xypp_factorized = collect(xpp_factorized,y)  # on enchaine par une factorisation par rapport a y\n",
    "ypp_factorized = collect(ypp_expand,y) # factorisation par rapport a y\n",
    "yxpp_factorized = collect(ypp_factorized,x)  # on enchaine par une factorisation par rapport a x"
   ]
  },
  {
   "cell_type": "code",
   "execution_count": 5,
   "metadata": {
    "collapsed": false
   },
   "outputs": [
    {
     "data": {
      "text/latex": [
       "$$a_{1} b_{2} + a_{1} + a_{4} b_{3} + b_{1} + x \\left(a_{2} b_{2} + a_{2} + a_{5} b_{3} + b_{2} + 1\\right) + y \\left(a_{3} b_{2} + a_{3} + a_{6} b_{3} + b_{3}\\right)$$"
      ],
      "text/plain": [
       "a₁⋅b₂ + a₁ + a₄⋅b₃ + b₁ + x⋅(a₂⋅b₂ + a₂ + a₅⋅b₃ + b₂ + 1) + y⋅(a₃⋅b₂ + a₃ + a₆\n",
       "⋅b₃ + b₃)"
      ]
     },
     "execution_count": 5,
     "metadata": {},
     "output_type": "execute_result"
    }
   ],
   "source": [
    "xypp_factorized\n"
   ]
  },
  {
   "cell_type": "code",
   "execution_count": 6,
   "metadata": {
    "collapsed": false
   },
   "outputs": [
    {
     "data": {
      "text/latex": [
       "$$a_{1} b_{5} + a_{4} b_{6} + a_{4} + b_{4} + x \\left(a_{2} b_{5} + a_{5} b_{6} + a_{5} + b_{5}\\right) + y \\left(a_{3} b_{5} + a_{6} b_{6} + a_{6} + b_{6} + 1\\right)$$"
      ],
      "text/plain": [
       "a₁⋅b₅ + a₄⋅b₆ + a₄ + b₄ + x⋅(a₂⋅b₅ + a₅⋅b₆ + a₅ + b₅) + y⋅(a₃⋅b₅ + a₆⋅b₆ + a₆ \n",
       "+ b₆ + 1)"
      ]
     },
     "execution_count": 6,
     "metadata": {},
     "output_type": "execute_result"
    }
   ],
   "source": [
    "yxpp_factorized"
   ]
  },
  {
   "cell_type": "markdown",
   "metadata": {},
   "source": [
    "Les deux expressions ci-dessus sont bien de la forme\n",
    "$$ u(x,y) = a_{1}+a_{2}x+a_{3}y$$\n",
    "$$ v(x,y) = a_{4}+a_{5}x+a_{6}y$$\n",
    "\n",
    "donc prennent bien la forme de modeles affines\n"
   ]
  },
  {
   "cell_type": "code",
   "execution_count": null,
   "metadata": {
    "collapsed": false
   },
   "outputs": [],
   "source": []
  }
 ],
 "metadata": {
  "celltoolbar": "Raw Cell Format",
  "kernelspec": {
   "display_name": "Python 2",
   "language": "python",
   "name": "python2"
  },
  "language_info": {
   "codemirror_mode": {
    "name": "ipython",
    "version": 2
   },
   "file_extension": ".py",
   "mimetype": "text/x-python",
   "name": "python",
   "nbconvert_exporter": "python",
   "pygments_lexer": "ipython2",
   "version": "2.7.11"
  }
 },
 "nbformat": 4,
 "nbformat_minor": 0
}
